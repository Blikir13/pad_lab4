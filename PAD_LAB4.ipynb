{
 "cells": [
  {
   "cell_type": "code",
   "execution_count": 69,
   "id": "8e012afb",
   "metadata": {},
   "outputs": [],
   "source": [
    "import numpy as np\n",
    "import pandas as pd\n",
    "import sklearn\n",
    "import matplotlib.pyplot as plt\n",
    "from scipy import stats\n",
    "from sklearn.model_selection import train_test_split\n",
    "from sklearn.metrics import mean_squared_error\n",
    "from sklearn.linear_model import LinearRegression\n",
    "import statsmodels.api as sm\n",
    "from sklearn.metrics import r2_score\n",
    "from sklearn import preprocessing\n",
    "\n",
    "from sklearn.model_selection import KFold\n",
    "\n",
    "from sklearn import metrics\n",
    "from sklearn.ensemble import RandomForestClassifier\n",
    "from sklearn import tree\n",
    "from sklearn.linear_model import LogisticRegression\n",
    "from sklearn.neighbors import KNeighborsClassifier\n",
    "from sklearn.model_selection import GridSearchCV\n",
    "from sklearn.metrics import accuracy_score\n",
    "from sklearn.metrics import roc_auc_score\n",
    "from sklearn.metrics import precision_score\n",
    "from sklearn.metrics import recall_score\n",
    "from sklearn.metrics import f1_score\n",
    "from sklearn.metrics import confusion_matrix, ConfusionMatrixDisplay\n",
    "from sklearn.metrics import classification_report\n",
    "\n",
    "import re\n",
    "\n",
    "from nltk.stem import SnowballStemmer\n",
    "from nltk.tokenize import word_tokenize\n",
    "from functools import reduce\n",
    "import nltk\n",
    "from nltk.corpus import stopwords\n",
    "from sklearn.feature_extraction.text import TfidfVectorizer\n",
    "from sklearn.feature_extraction.text import CountVectorizer\n",
    "import pymorphy3\n",
    "from pymystem3 import Mystem\n",
    "\n",
    "\n",
    "import warnings\n",
    "warnings.filterwarnings('ignore')"
   ]
  },
  {
   "cell_type": "code",
   "execution_count": 70,
   "id": "d08bcc14",
   "metadata": {},
   "outputs": [],
   "source": [
    "df2 = pd.DataFrame(columns=['text', 'label'])\n",
    "df1 = pd.DataFrame(columns=['text', 'label'])\n",
    "df_lem_train = pd.DataFrame(columns=['text', 'label'])\n",
    "df_lem_test = pd.DataFrame(columns=['text', 'label'])\n",
    "\n",
    "# достаем обучающую выборку и загружаем в 2 ДатаФрейма: для лемматизации и стемминга\n",
    "df_train = pd.read_csv('/Users/mac/Downloads/rusentitweet_train.csv')\n",
    "for i, row in df_train.iterrows():\n",
    "    if row[1] in (\"negative\", \"positive\"):\n",
    "        df2.loc[len(df2.index)] = row\n",
    "        df_lem_train.loc[len(df_lem_train.index)] = row\n",
    "        \n",
    "df_train = df2\n",
    "\n",
    "        \n",
    "# достаем тестову выборку и загружаем в 2 ДатаФрейма: для лемматизации и стемминга\n",
    "df_test = pd.read_csv('/Users/mac/Downloads/rusentitweet_test.csv')\n",
    "for i, row in df_test.iterrows():\n",
    "    if row[1] in (\"negative\", \"positive\"):\n",
    "        df1.loc[len(df1.index)] = row\n",
    "        df_lem_test.loc[len(df_lem_test.index)] = row\n",
    "df_test = df1"
   ]
  },
  {
   "cell_type": "code",
   "execution_count": 71,
   "id": "d4f03682",
   "metadata": {},
   "outputs": [
    {
     "name": "stderr",
     "output_type": "stream",
     "text": [
      "[nltk_data] Downloading package stopwords to /Users/mac/nltk_data...\n",
      "[nltk_data]   Package stopwords is already up-to-date!\n"
     ]
    }
   ],
   "source": [
    "nltk.download('stopwords')\n",
    "# Стоп-слова\n",
    "stop = stopwords.words('russian')"
   ]
  },
  {
   "cell_type": "code",
   "execution_count": 72,
   "id": "149c7cd8",
   "metadata": {},
   "outputs": [],
   "source": [
    "# 2 Функция очистки\n",
    "def my_clear(df):\n",
    "    s=[]\n",
    "    s1 = \"\"\n",
    "    regs = [r'https?:\\/\\/.\\S+', r'#\\S+', r'@\\S+', r'\\\\r\\\\n', r'[-.)(,:]']\n",
    "    glasn = ['о', 'о', 'а', 'я', 'а', 'а', 'и', 'а', 'е', 'у', 'о', 'о', 'а', 'е', 'я', 'о', 'у']\n",
    "    signs = ['!', '_', '.']\n",
    "\n",
    "    # приведение всего к нижнему регистру\n",
    "    for i, row in df.iterrows():\n",
    "        row[0] = row[0].lower()\n",
    "\n",
    "\n",
    "    for i, row in df.iterrows():\n",
    "        # удаление ссыло, хэштегов(и знака решетки и последующего хэштега, потому что слова после хэштэга пишутся слитно)\n",
    "        # удаление отмеченных пользователей(@name), удаление знаков пунктуации (кроме ! ?)\n",
    "        for reg in regs:\n",
    "            row[0] = re.sub(reg, \"\", row[0])\n",
    "\n",
    "        # удаление стоп-слов\n",
    "        row[0] = ' '.join([x for x in row[0].split() if x not in stop])\n",
    "\n",
    "        # удаление повторящихся подряд смайликов и знаков препинания (оставшихся)\n",
    "        # удаление подряд идущих гласных (тыыыыы, яяяяяя, аааааа и тд)\n",
    "        # удаление цифр, так как по сути цифры не имеют никакого значения в данном анализе\n",
    "        r = row[0]\n",
    "        for t in range(0, len(row[0])):\n",
    "            if not(not(r[t].isalpha()) and r[t] == r[t-1]) and not((r[t] in glasn) and r[t] == r[t-1]) and not(r[t].isdigit()):\n",
    "                s1+=r[t]\n",
    "        row[0] = s1\n",
    "\n",
    "        s1 = \"\"\n",
    "\n",
    "        r = row[0] + \"  \"\n",
    "\n",
    "        #отделение смайлика от слова (чимина🤧 -> чимина 🤧)\n",
    "        for t in range(0, len(row[0])):\n",
    "            if not(r[t+1].isalpha()) and r[t]!= \" \" and not(r[t+1].isdigit()) and (r[t+2].isalpha() or r[t+2]==\" \"):\n",
    "                s1+=r[t] + \" \"\n",
    "            else:\n",
    "                s1+=r[t]\n",
    "        row[0] = s1\n",
    "\n",
    "        s = []\n",
    "        s1=\"\"\n",
    "    return df"
   ]
  },
  {
   "cell_type": "code",
   "execution_count": 73,
   "id": "4294966a",
   "metadata": {},
   "outputs": [],
   "source": [
    "# 2 очистка обучающих\n",
    "df_train = my_clear(df_train)\n",
    "df_test = my_clear(df_test)"
   ]
  },
  {
   "cell_type": "code",
   "execution_count": 74,
   "id": "04369aad",
   "metadata": {},
   "outputs": [],
   "source": [
    "# 3\n",
    "# стемминг теста\n",
    "new = SnowballStemmer(language='russian')\n",
    "for i, row in df_test.iterrows():\n",
    "    row[0] = ' '.join([new.stem(x) for x in row[0].split()])\n",
    "    \n",
    "for i, row in df_train.iterrows():\n",
    "    row[0] = ' '.join([new.stem(x) for x in row[0].split()])"
   ]
  },
  {
   "cell_type": "code",
   "execution_count": 75,
   "id": "956cc733",
   "metadata": {},
   "outputs": [
    {
     "data": {
      "text/plain": [
       "['помойм вкраш чимин 🤧',\n",
       " 'порядк !',\n",
       " 'след буд победн закрыва пожела удач !',\n",
       " 'удивительн гимн удивительн пок ещ сдохл украин',\n",
       " 'срал биолог',\n",
       " 'помим алин ещ радост гемоглобин повыс',\n",
       " 'пиздец че вобщ чувств жизн помота прошл сутк туман',\n",
       " 'спичк ? зажеч огон тво глаз',\n",
       " 'эт сам дел очен крут',\n",
       " 'хоч сказа чтот приятн получа \"ид нах ебла противн \"']"
      ]
     },
     "execution_count": 75,
     "metadata": {},
     "output_type": "execute_result"
    }
   ],
   "source": [
    "x_train = []\n",
    "x_test = []\n",
    "\n",
    "# создание массива строк\n",
    "for i, row in df_train.iterrows():\n",
    "    x_train.append(row[0])\n",
    "\n",
    "for i, row in df_test.iterrows():\n",
    "    x_test.append(row[0])\n",
    "x_train[0:10]"
   ]
  },
  {
   "cell_type": "code",
   "execution_count": 76,
   "id": "f7f00b06",
   "metadata": {},
   "outputs": [],
   "source": [
    "# 4\n",
    "vec = TfidfVectorizer(stop_words=None)\n",
    "\n",
    "# tf-idf test and train\n",
    "matr = vec.fit_transform(x_train)\n",
    "matr_test = vec.transform(x_test)\n"
   ]
  },
  {
   "cell_type": "code",
   "execution_count": 77,
   "id": "fcb5f61d",
   "metadata": {},
   "outputs": [
    {
     "name": "stdout",
     "output_type": "stream",
     "text": [
      "0.7611548556430446\n"
     ]
    }
   ],
   "source": [
    "# 5 logreg\n",
    "model_logreg = LogisticRegression()\n",
    "model_logreg.fit(matr, df_train['label'])\n",
    "y_logreg = model_logreg.predict(matr_test)\n",
    "\n",
    "accuracy = accuracy_score(df_test['label'], y_logreg)\n",
    "print(accuracy)"
   ]
  },
  {
   "cell_type": "code",
   "execution_count": 78,
   "id": "1ff96b6a",
   "metadata": {},
   "outputs": [
    {
     "data": {
      "text/plain": [
       "array(['любл', 'красив', 'блят', 'мил', 'лучш', 'пиздец', 'крут',\n",
       "       'прекрасн', 'классн', 'ва', 'нах', 'нрав', 'хорош', 'сук', 'рад',\n",
       "       'любим', 'обожа', 'любов', 'хуйн', 'вобщ'], dtype=object)"
      ]
     },
     "execution_count": 78,
     "metadata": {},
     "output_type": "execute_result"
    }
   ],
   "source": [
    "# 5 top logreg\n",
    "importance = model_logreg.coef_\n",
    "abs_importance = abs(importance)\n",
    "sorted_index = abs_importance.argsort()\n",
    "sorted_index = sorted_index[0][::-1]\n",
    "# топ-20 значимых слов\n",
    "np.array(vec.get_feature_names_out())[sorted_index[0:20]]"
   ]
  },
  {
   "cell_type": "code",
   "execution_count": 79,
   "id": "85d37ca6",
   "metadata": {},
   "outputs": [
    {
     "name": "stdout",
     "output_type": "stream",
     "text": [
      "0.7244094488188977\n"
     ]
    }
   ],
   "source": [
    "# 5 random_forest\n",
    "model_random_forest = RandomForestClassifier()\n",
    "model_random_forest.fit(matr, df_train['label'])\n",
    "y_forest = model_random_forest.predict(matr_test)\n",
    "\n",
    "accuracy = accuracy_score(df_test['label'], y_forest)\n",
    "print(accuracy)"
   ]
  },
  {
   "cell_type": "code",
   "execution_count": 80,
   "id": "5b26b78b",
   "metadata": {},
   "outputs": [
    {
     "data": {
      "text/plain": [
       "array(['любл', 'красив', 'блят', 'лучш', 'прекрасн', 'мил', 'крут', 'ва',\n",
       "       'эт', 'пиздец', 'хорош', 'нрав', 'классн', 'рад', 'очен', 'сук',\n",
       "       'нах', 'хоч', 'любим', 'обожа'], dtype=object)"
      ]
     },
     "execution_count": 80,
     "metadata": {},
     "output_type": "execute_result"
    }
   ],
   "source": [
    "# 5 top random_forest\n",
    "importance = model_random_forest.feature_importances_\n",
    "abs_importance = abs(importance)\n",
    "sorted_index = abs_importance.argsort()[::-1]\n",
    "# топ-20 значимых слов\n",
    "np.array(vec.get_feature_names_out())[sorted_index[0:20]]"
   ]
  },
  {
   "cell_type": "code",
   "execution_count": null,
   "id": "1af0ac0b",
   "metadata": {},
   "outputs": [],
   "source": []
  },
  {
   "cell_type": "code",
   "execution_count": 81,
   "id": "a028bb00",
   "metadata": {},
   "outputs": [
    {
     "name": "stderr",
     "output_type": "stream",
     "text": [
      "[nltk_data] Downloading package wordnet to /Users/mac/nltk_data...\n",
      "[nltk_data]   Package wordnet is already up-to-date!\n",
      "[nltk_data] Downloading package omw-1.4 to /Users/mac/nltk_data...\n",
      "[nltk_data]   Package omw-1.4 is already up-to-date!\n"
     ]
    }
   ],
   "source": [
    "import nltk\n",
    "nltk.download('wordnet')\n",
    "nltk.download('omw-1.4')\n",
    "from nltk.stem import WordNetLemmatizer "
   ]
  },
  {
   "cell_type": "code",
   "execution_count": 82,
   "id": "c4382d50",
   "metadata": {},
   "outputs": [],
   "source": [
    "# clear\n",
    "df_lem_train = my_clear(df_lem_train)\n",
    "df_lem_test = my_clear(df_lem_test)"
   ]
  },
  {
   "cell_type": "code",
   "execution_count": 83,
   "id": "58143e59",
   "metadata": {},
   "outputs": [],
   "source": [
    "# Mystem - контекстный леммотизатор + pip install pymorphy3-dicts-ru - словари\n",
    "m = Mystem()\n",
    "\n",
    "x_test_lem = []\n",
    "x_train_lem = []\n",
    "\n",
    "# lemmatize\n",
    "for i, t in df_lem_train.iterrows():\n",
    "    lemmas = m.lemmatize(t[0])\n",
    "    x_train_lem.append(\"\".join(lemmas).strip())\n",
    "    \n",
    "for i, t in df_lem_test.iterrows():\n",
    "    lemmas = m.lemmatize(t[0])\n",
    "    x_test_lem.append(\"\".join(lemmas).strip())"
   ]
  },
  {
   "cell_type": "code",
   "execution_count": 84,
   "id": "621721bb",
   "metadata": {},
   "outputs": [],
   "source": [
    "vec = TfidfVectorizer(stop_words=None)\n",
    "\n",
    "# tf-idf test and train\n",
    "matr_train_lem = vec.fit_transform(x_train_lem)\n",
    "matr_test_lem = vec.transform(x_test_lem)"
   ]
  },
  {
   "cell_type": "code",
   "execution_count": 85,
   "id": "4e4ce833",
   "metadata": {
    "scrolled": true
   },
   "outputs": [
    {
     "name": "stdout",
     "output_type": "stream",
     "text": [
      "0.7742782152230971\n"
     ]
    }
   ],
   "source": [
    "model_logreg = LogisticRegression()\n",
    "model_logreg.fit(matr_train_lem, df_lem_train['label'])\n",
    "y_logreg = model_logreg.predict(matr_test_lem)\n",
    "\n",
    "accuracy = accuracy_score(df_lem_test['label'], y_logreg)\n",
    "print(accuracy)"
   ]
  },
  {
   "cell_type": "code",
   "execution_count": 86,
   "id": "4be92b0d",
   "metadata": {},
   "outputs": [
    {
     "data": {
      "text/plain": [
       "array(['блять', 'любить', 'хороший', 'красивый', 'вау', 'пиздец', 'милый',\n",
       "       'сука', 'нахуй', 'прекрасный', 'классный', 'умирать', 'нравиться',\n",
       "       'любовь', 'красиво', 'крутой', 'рад', 'круто', 'обожать', 'вобще'],\n",
       "      dtype=object)"
      ]
     },
     "execution_count": 86,
     "metadata": {},
     "output_type": "execute_result"
    }
   ],
   "source": [
    "importance = model_logreg.coef_\n",
    "abs_importance = abs(importance)\n",
    "sorted_index = abs_importance.argsort()\n",
    "sorted_index = sorted_index[0][::-1]\n",
    "# топ-20 значимых слов\n",
    "np.array(vec.get_feature_names_out())[sorted_index[0:20]]"
   ]
  },
  {
   "cell_type": "code",
   "execution_count": 87,
   "id": "1833ae92",
   "metadata": {},
   "outputs": [
    {
     "name": "stdout",
     "output_type": "stream",
     "text": [
      "0.7296587926509186\n"
     ]
    }
   ],
   "source": [
    "model_random_forest = RandomForestClassifier()\n",
    "model_random_forest.fit(matr_train_lem, df_lem_train['label'])\n",
    "y_forest = model_random_forest.predict(matr_test_lem)\n",
    "\n",
    "accuracy = accuracy_score(df_lem_test['label'], y_forest)\n",
    "print(accuracy)"
   ]
  },
  {
   "cell_type": "code",
   "execution_count": 88,
   "id": "97912019",
   "metadata": {},
   "outputs": [
    {
     "data": {
      "text/plain": [
       "array(['любить', 'хороший', 'красивый', 'блять', 'вау', 'это', 'пиздец',\n",
       "       'нравиться', 'милый', 'прекрасный', 'любовь', 'классный',\n",
       "       'красиво', 'крутой', 'рад', 'хотеть', 'сука', 'вобще', 'обожать',\n",
       "       'спасибо'], dtype=object)"
      ]
     },
     "execution_count": 88,
     "metadata": {},
     "output_type": "execute_result"
    }
   ],
   "source": [
    "importance = model_random_forest.feature_importances_\n",
    "abs_importance = abs(importance)\n",
    "sorted_index = abs_importance.argsort()[::-1]\n",
    "# топ-20 значимых слов\n",
    "np.array(vec.get_feature_names_out())[sorted_index[0:20]]"
   ]
  },
  {
   "cell_type": "code",
   "execution_count": null,
   "id": "c8b5aa82",
   "metadata": {},
   "outputs": [],
   "source": []
  }
 ],
 "metadata": {
  "kernelspec": {
   "display_name": "Python 3 (ipykernel)",
   "language": "python",
   "name": "python3"
  },
  "language_info": {
   "codemirror_mode": {
    "name": "ipython",
    "version": 3
   },
   "file_extension": ".py",
   "mimetype": "text/x-python",
   "name": "python",
   "nbconvert_exporter": "python",
   "pygments_lexer": "ipython3",
   "version": "3.11.3"
  }
 },
 "nbformat": 4,
 "nbformat_minor": 5
}
