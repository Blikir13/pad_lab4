{
 "cells": [
  {
   "cell_type": "code",
   "execution_count": 1,
   "id": "03f7e199",
   "metadata": {},
   "outputs": [],
   "source": [
    "import numpy as np\n",
    "import pandas as pd\n",
    "import sklearn\n",
    "import matplotlib.pyplot as plt\n",
    "from scipy import stats\n",
    "from sklearn.model_selection import train_test_split\n",
    "from sklearn.metrics import mean_squared_error\n",
    "from sklearn.linear_model import LinearRegression\n",
    "import statsmodels.api as sm\n",
    "from sklearn.metrics import r2_score\n",
    "from sklearn import preprocessing\n",
    "\n",
    "from sklearn.model_selection import KFold\n",
    "\n",
    "from sklearn import metrics\n",
    "from sklearn.ensemble import RandomForestClassifier\n",
    "from sklearn import tree\n",
    "from sklearn.linear_model import LogisticRegression\n",
    "from sklearn.neighbors import KNeighborsClassifier\n",
    "from sklearn.model_selection import GridSearchCV\n",
    "from sklearn.metrics import accuracy_score\n",
    "from sklearn.metrics import roc_auc_score\n",
    "from sklearn.metrics import precision_score\n",
    "from sklearn.metrics import recall_score\n",
    "from sklearn.metrics import f1_score\n",
    "from sklearn.metrics import confusion_matrix, ConfusionMatrixDisplay\n",
    "from sklearn.metrics import classification_report\n",
    "\n",
    "import re\n",
    "\n",
    "from nltk.stem import SnowballStemmer\n",
    "from nltk.tokenize import word_tokenize\n",
    "from functools import reduce\n",
    "import nltk\n",
    "from nltk.corpus import stopwords\n",
    "from sklearn.feature_extraction.text import TfidfVectorizer\n",
    "from sklearn.feature_extraction.text import CountVectorizer\n",
    "import pymorphy3\n",
    "from pymystem3 import Mystem\n",
    "\n",
    "\n",
    "import warnings\n",
    "warnings.filterwarnings('ignore')"
   ]
  },
  {
   "cell_type": "code",
   "execution_count": 2,
   "id": "103383a0",
   "metadata": {},
   "outputs": [],
   "source": [
    "df2 = pd.DataFrame(columns=['text', 'label'])\n",
    "df1 = pd.DataFrame(columns=['text', 'label'])\n",
    "df_lem_train = pd.DataFrame(columns=['text', 'label'])\n",
    "df_lem_test = pd.DataFrame(columns=['text', 'label'])\n",
    "\n",
    "# достаем обучающую выборку и загружаем в 2 ДатаФрейма: для лемматизации и стемминга\n",
    "df_train = pd.read_csv('/Users/mac/Downloads/rusentitweet_train.csv')\n",
    "for i, row in df_train.iterrows():\n",
    "    if row[1] in (\"negative\", \"positive\"):\n",
    "        df2.loc[len(df2.index)] = row\n",
    "        df_lem_train.loc[len(df_lem_train.index)] = row\n",
    "        \n",
    "df_train = df2\n",
    "\n",
    "        \n",
    "# достаем тестову выборку и загружаем в 2 ДатаФрейма: для лемматизации и стемминга\n",
    "df_test = pd.read_csv('/Users/mac/Downloads/rusentitweet_test.csv')\n",
    "for i, row in df_test.iterrows():\n",
    "    if row[1] in (\"negative\", \"positive\"):\n",
    "        df1.loc[len(df1.index)] = row\n",
    "        df_lem_test.loc[len(df_lem_test.index)] = row\n",
    "df_test = df1"
   ]
  },
  {
   "cell_type": "code",
   "execution_count": 3,
   "id": "523a81b4",
   "metadata": {},
   "outputs": [
    {
     "name": "stderr",
     "output_type": "stream",
     "text": [
      "[nltk_data] Downloading package stopwords to /Users/mac/nltk_data...\n",
      "[nltk_data]   Package stopwords is already up-to-date!\n"
     ]
    }
   ],
   "source": [
    "nltk.download('stopwords')\n",
    "# Стоп-слова\n",
    "stop = stopwords.words('russian')"
   ]
  },
  {
   "cell_type": "code",
   "execution_count": 4,
   "id": "f3cf9dd0",
   "metadata": {},
   "outputs": [
    {
     "name": "stdout",
     "output_type": "stream",
     "text": [
      "                                                text     label\n",
      "0                     помойму  вкрашилась  чимина 🤧   positive\n",
      "1                                         порядке !   negative\n",
      "2  следующий  буду  победного  закрывать  пожелай...  positive\n",
      "3  удивительный  гiмн  удивительно  пока  ещё  сд...  negative\n",
      "4                                   срала  биологию   negative\n",
      "5  помимо  алины  ещё  радость  гемоглобин  повыс...  positive\n",
      "6  пиздец  чё  вобще  чувствую  жизнь  помотала  ...  negative\n",
      "7            спичка ?  зажечь  огонь  твоих  глазах   positive\n",
      "8                    это  самом  деле  очень  круто   positive\n",
      "9  хочу  сказать  чтото  приятное  получается \"ид...  negative\n"
     ]
    }
   ],
   "source": [
    "# 2 Функция очистки\n",
    "def my_clear(df):\n",
    "    s=[]\n",
    "    s1 = \"\"\n",
    "    regs = [r'https?:\\/\\/.\\S+', r'#\\S+', r'@\\S+', r'\\\\r\\\\n', r'[-.)(,:]']\n",
    "    glasn = ['о', 'о', 'а', 'я', 'а', 'а', 'и', 'а', 'е', 'у', 'о', 'о', 'а', 'е', 'я', 'о', 'у']\n",
    "    signs = ['!', '_', '.']\n",
    "\n",
    "    # приведение всего к нижнему регистру\n",
    "    for i, row in df.iterrows():\n",
    "        row[0] = row[0].lower()\n",
    "\n",
    "\n",
    "    for i, row in df.iterrows():\n",
    "        # удаление ссыло, хэштегов(и знака решетки и последующего хэштега, потому что слова после хэштэга пишутся слитно)\n",
    "        # удаление отмеченных пользователей(@name), удаление знаков пунктуации (кроме ! ?)\n",
    "        for reg in regs:\n",
    "            row[0] = re.sub(reg, \"\", row[0])\n",
    "\n",
    "        # удаление стоп-слов\n",
    "        row[0] = ' '.join([x for x in row[0].split() if x not in stop])\n",
    "\n",
    "        # удаление повторящихся подряд смайликов и знаков препинания (оставшихся)\n",
    "        # удаление подряд идущих гласных (тыыыыы, яяяяяя, аааааа и тд)\n",
    "        # удаление цифр, так как по сути цифры не имеют никакого значения в данном анализе\n",
    "        r = row[0]\n",
    "        for t in range(0, len(row[0])):\n",
    "            if not(not(r[t].isalpha()) and r[t] == r[t-1]) and not((r[t] in glasn) and r[t] == r[t-1]) and not(r[t].isdigit()):\n",
    "                s1+=r[t]\n",
    "        row[0] = s1\n",
    "\n",
    "        s1 = \"\"\n",
    "\n",
    "        r = row[0] + \"  \"\n",
    "\n",
    "        #отделение смайлика от слова (чимина🤧 -> чимина 🤧)\n",
    "        for t in range(0, len(row[0])):\n",
    "            if not(r[t+1].isalpha()) and r[t]!= \" \" and not(r[t+1].isdigit()) and (r[t+2].isalpha() or r[t+2]==\" \"):\n",
    "                s1+=r[t] + \" \"\n",
    "            else:\n",
    "                s1+=r[t]\n",
    "        row[0] = s1\n",
    "\n",
    "        s = []\n",
    "        s1=\"\"\n",
    "    return df"
   ]
  },
  {
   "cell_type": "code",
   "execution_count": 5,
   "id": "cb9cc3f8",
   "metadata": {},
   "outputs": [
    {
     "data": {
      "text/html": [
       "<div>\n",
       "<style scoped>\n",
       "    .dataframe tbody tr th:only-of-type {\n",
       "        vertical-align: middle;\n",
       "    }\n",
       "\n",
       "    .dataframe tbody tr th {\n",
       "        vertical-align: top;\n",
       "    }\n",
       "\n",
       "    .dataframe thead th {\n",
       "        text-align: right;\n",
       "    }\n",
       "</style>\n",
       "<table border=\"1\" class=\"dataframe\">\n",
       "  <thead>\n",
       "    <tr style=\"text-align: right;\">\n",
       "      <th></th>\n",
       "      <th>text</th>\n",
       "      <th>label</th>\n",
       "    </tr>\n",
       "  </thead>\n",
       "  <tbody>\n",
       "    <tr>\n",
       "      <th>0</th>\n",
       "      <td>помойм вкраш чимин 🤧</td>\n",
       "      <td>positive</td>\n",
       "    </tr>\n",
       "    <tr>\n",
       "      <th>1</th>\n",
       "      <td>порядк !</td>\n",
       "      <td>negative</td>\n",
       "    </tr>\n",
       "    <tr>\n",
       "      <th>2</th>\n",
       "      <td>след буд победн закрыва пожела удач !</td>\n",
       "      <td>positive</td>\n",
       "    </tr>\n",
       "    <tr>\n",
       "      <th>3</th>\n",
       "      <td>удивительн гимн удивительн пок ещ сдохл украин</td>\n",
       "      <td>negative</td>\n",
       "    </tr>\n",
       "    <tr>\n",
       "      <th>4</th>\n",
       "      <td>срал биолог</td>\n",
       "      <td>negative</td>\n",
       "    </tr>\n",
       "    <tr>\n",
       "      <th>5</th>\n",
       "      <td>помим алин ещ радост гемоглобин повыс</td>\n",
       "      <td>positive</td>\n",
       "    </tr>\n",
       "    <tr>\n",
       "      <th>6</th>\n",
       "      <td>пиздец че вобщ чувств жизн помота прошл сутк т...</td>\n",
       "      <td>negative</td>\n",
       "    </tr>\n",
       "    <tr>\n",
       "      <th>7</th>\n",
       "      <td>спичк ? зажеч огон тво глаз</td>\n",
       "      <td>positive</td>\n",
       "    </tr>\n",
       "    <tr>\n",
       "      <th>8</th>\n",
       "      <td>эт сам дел очен крут</td>\n",
       "      <td>positive</td>\n",
       "    </tr>\n",
       "    <tr>\n",
       "      <th>9</th>\n",
       "      <td>хоч сказа чтот приятн получа \"ид нах ебла прот...</td>\n",
       "      <td>negative</td>\n",
       "    </tr>\n",
       "  </tbody>\n",
       "</table>\n",
       "</div>"
      ],
      "text/plain": [
       "                                                text     label\n",
       "0                               помойм вкраш чимин 🤧  positive\n",
       "1                                           порядк !  negative\n",
       "2              след буд победн закрыва пожела удач !  positive\n",
       "3     удивительн гимн удивительн пок ещ сдохл украин  negative\n",
       "4                                        срал биолог  negative\n",
       "5              помим алин ещ радост гемоглобин повыс  positive\n",
       "6  пиздец че вобщ чувств жизн помота прошл сутк т...  negative\n",
       "7                        спичк ? зажеч огон тво глаз  positive\n",
       "8                               эт сам дел очен крут  positive\n",
       "9  хоч сказа чтот приятн получа \"ид нах ебла прот...  negative"
      ]
     },
     "execution_count": 5,
     "metadata": {},
     "output_type": "execute_result"
    }
   ],
   "source": [
    "# очистка обучающих\n",
    "df_train = my_clear(df_train)\n",
    "\n",
    "# 3\n",
    "# стемминг обучающих\n",
    "new = SnowballStemmer(language='russian')\n",
    "for i, row in df_train.iterrows():\n",
    "    row[0] = ' '.join([new.stem(x) for x in row[0].split()])\n",
    "df_train[0:10]\n",
    "\n",
    "# создание массива строк обучающих\n",
    "x_train = []\n",
    "for i, row in df_train.iterrows():\n",
    "    x_train.append(row[0])\n",
    "x_train[0:10]"
   ]
  },
  {
   "cell_type": "code",
   "execution_count": 7,
   "id": "f044dba2",
   "metadata": {},
   "outputs": [
    {
     "data": {
      "text/plain": [
       "['счита эт мем год',\n",
       " 'ян русск сотк запят надо🤙🏻👍🏻👍🏻👍🏻👍 🏻 ещ сидел дума чо эт твит',\n",
       " 'пушк караульн гор стреля баб !',\n",
       " 'мил /смут / спасиб 🥰 🌸',\n",
       " 'больн дышат бабк лет ужас 🚬',\n",
       " 'любл too 💜',\n",
       " 'столовк лудш греч мяс',\n",
       " '',\n",
       " 'волну 🤗',\n",
       " 'чудн']"
      ]
     },
     "execution_count": 7,
     "metadata": {},
     "output_type": "execute_result"
    }
   ],
   "source": [
    "# очистка тест\n",
    "df_test = my_clear(df_test)\n",
    "\n",
    "# 3\n",
    "# стемминг теста\n",
    "new = SnowballStemmer(language='russian')\n",
    "for i, row in df_test.iterrows():\n",
    "    row[0] = ' '.join([new.stem(x) for x in row[0].split()])\n",
    "\n",
    "# создание массива строк тест\n",
    "x_test = []\n",
    "for i, row in df_test.iterrows():\n",
    "    x_test.append(row[0])\n",
    "x_test[0:10]"
   ]
  },
  {
   "cell_type": "code",
   "execution_count": 8,
   "id": "ec1978d1",
   "metadata": {},
   "outputs": [],
   "source": [
    "# 4\n",
    "vec = TfidfVectorizer(stop_words=None)\n",
    "\n",
    "# tf-idf test and train\n",
    "matr = vec.fit_transform(x_train)\n",
    "matr_test = vec.transform(x_test)\n"
   ]
  },
  {
   "cell_type": "code",
   "execution_count": 9,
   "id": "450d9097",
   "metadata": {},
   "outputs": [
    {
     "name": "stdout",
     "output_type": "stream",
     "text": [
      "0.7611548556430446\n"
     ]
    }
   ],
   "source": [
    "# 5 logreg\n",
    "model_logreg = LogisticRegression()\n",
    "model_logreg.fit(matr, df_train['label'])\n",
    "y_logreg = model_logreg.predict(matr_test)\n",
    "\n",
    "accuracy = accuracy_score(df_test['label'], y_logreg)\n",
    "print(accuracy)"
   ]
  },
  {
   "cell_type": "code",
   "execution_count": 10,
   "id": "152b5706",
   "metadata": {},
   "outputs": [
    {
     "name": "stdout",
     "output_type": "stream",
     "text": [
      "[3096 2796  504 ... 1903 2588 6558]\n"
     ]
    },
    {
     "data": {
      "text/plain": [
       "array(['любл', 'красив', 'блят', 'мил', 'лучш', 'пиздец', 'крут',\n",
       "       'прекрасн', 'классн', 'ва', 'нах', 'нрав', 'хорош', 'сук', 'рад',\n",
       "       'любим', 'обожа', 'любов', 'хуйн', 'вобщ'], dtype=object)"
      ]
     },
     "execution_count": 10,
     "metadata": {},
     "output_type": "execute_result"
    }
   ],
   "source": [
    "# 5 top logreg\n",
    "importance = model_logreg.coef_\n",
    "abs_importance = abs(importance)\n",
    "sorted_index = abs_importance.argsort()\n",
    "sorted_index = sorted_index[0][::-1]\n",
    "print(sorted_index)\n",
    "# топ-20 значимых слов\n",
    "np.array(vec.get_feature_names_out())[sorted_index[0:20]]"
   ]
  },
  {
   "cell_type": "code",
   "execution_count": 11,
   "id": "457dd5af",
   "metadata": {},
   "outputs": [
    {
     "name": "stdout",
     "output_type": "stream",
     "text": [
      "0.5774278215223098\n"
     ]
    }
   ],
   "source": [
    "# 5 random_forest\n",
    "model_random_forest = RandomForestClassifier(max_depth=1)\n",
    "model_random_forest.fit(matr, df_train['label'])\n",
    "y_forest = model_random_forest.predict(matr_test)\n",
    "\n",
    "accuracy = accuracy_score(df_test['label'], y_forest)\n",
    "print(accuracy)"
   ]
  },
  {
   "cell_type": "code",
   "execution_count": 12,
   "id": "7b825355",
   "metadata": {},
   "outputs": [
    {
     "name": "stdout",
     "output_type": "stream",
     "text": [
      "[2861 7423 3292 ... 5234 5235    0]\n"
     ]
    },
    {
     "data": {
      "text/plain": [
       "array(['крут', 'хорош', 'мил', 'очен', 'спасиб', 'побед', 'че', 'ебан',\n",
       "       'краш', 'обожа', 'прекрасн', 'грустн', 'лучш', 'солнышк', 'ник',\n",
       "       'ког', 'тип', 'бро', 'отличн', 'слов'], dtype=object)"
      ]
     },
     "execution_count": 12,
     "metadata": {},
     "output_type": "execute_result"
    }
   ],
   "source": [
    "# 5 top random_forest\n",
    "importance = model_random_forest.feature_importances_\n",
    "abs_importance = abs(importance)\n",
    "sorted_index = abs_importance.argsort()[::-1]\n",
    "print(sorted_index)\n",
    "# топ-20 значимых слов\n",
    "np.array(vec.get_feature_names_out())[sorted_index[0:20]]"
   ]
  },
  {
   "cell_type": "code",
   "execution_count": null,
   "id": "504046e2",
   "metadata": {},
   "outputs": [],
   "source": []
  },
  {
   "cell_type": "code",
   "execution_count": 13,
   "id": "1f82854e",
   "metadata": {},
   "outputs": [
    {
     "name": "stderr",
     "output_type": "stream",
     "text": [
      "[nltk_data] Downloading package wordnet to /Users/mac/nltk_data...\n",
      "[nltk_data]   Package wordnet is already up-to-date!\n",
      "[nltk_data] Downloading package omw-1.4 to /Users/mac/nltk_data...\n",
      "[nltk_data]   Package omw-1.4 is already up-to-date!\n"
     ]
    }
   ],
   "source": [
    "import nltk\n",
    "nltk.download('wordnet')\n",
    "nltk.download('omw-1.4')\n",
    "from nltk.stem import WordNetLemmatizer "
   ]
  },
  {
   "cell_type": "code",
   "execution_count": 16,
   "id": "486cbadb",
   "metadata": {},
   "outputs": [
    {
     "name": "stdout",
     "output_type": "stream",
     "text": [
      "                                                text     label\n",
      "0                     помойму  вкрашилась  чимина 🤧   positive\n",
      "1                                         порядке !   negative\n",
      "2  следующий  буду  победного  закрывать  пожелай...  positive\n",
      "3  удивительный  гiмн  удивительно  пока  ещё  сд...  negative\n",
      "4                                   срала  биологию   negative\n",
      "5  помимо  алины  ещё  радость  гемоглобин  повыс...  positive\n",
      "6  пиздец  чё  вобще  чувствую  жизнь  помотала  ...  negative\n",
      "7            спичка ?  зажечь  огонь  твоих  глазах   positive\n",
      "8                    это  самом  деле  очень  круто   positive\n",
      "9  хочу  сказать  чтото  приятное  получается \"ид...  negative\n",
      "['помойма  вкрашиться  чимин 🤧', 'порядок !', 'следующий  быть  победный  закрывать  пожелать  удача !', 'удивительный  гiмн  удивительно  пока  еще  сдыхать  украина', 'срать  биология', 'помимо  алина  еще  радость  гемоглобин  повышаться', 'пиздец  че  вобще  чувствовать  жизнь  помотать  прошлый  сутки  туман', 'спичка ?  зажигать  огонь  твой  глаз', 'это  самый  дело  очень  круто', 'хотеть  сказать  чтото  приятный  получаться \"идти  нахуй  еблан  противный \"']\n"
     ]
    }
   ],
   "source": [
    "# clear\n",
    "df_lem_train = my_clear(df_lem_train)\n",
    "df_lem_test = my_clear(df_lem_test)"
   ]
  },
  {
   "cell_type": "code",
   "execution_count": null,
   "id": "b389db75",
   "metadata": {},
   "outputs": [],
   "source": [
    "# Mystem - контекстный леммотизатор + pip install pymorphy3-dicts-ru - словари\n",
    "m = Mystem()\n",
    "\n",
    "x_test = []\n",
    "x_train = []\n",
    "\n",
    "# lemmatize\n",
    "for i, t in df_lem_train.iterrows():\n",
    "    lemmas = m.lemmatize(t[0])\n",
    "    x_train.append(\"\".join(lemmas).strip())\n",
    "    \n",
    "for i, t in df_lem_test.iterrows():\n",
    "    lemmas = m.lemmatize(t[0])\n",
    "    x_test.append(\"\".join(lemmas).strip())"
   ]
  },
  {
   "cell_type": "code",
   "execution_count": 18,
   "id": "cae523ff",
   "metadata": {},
   "outputs": [],
   "source": [
    "vec = TfidfVectorizer(stop_words=None)\n",
    "\n",
    "# tf-idf test and train\n",
    "matr = vec.fit_transform(x_train)\n",
    "matr_test = vec.transform(x_test)"
   ]
  },
  {
   "cell_type": "code",
   "execution_count": 19,
   "id": "61aa77ca",
   "metadata": {
    "scrolled": true
   },
   "outputs": [
    {
     "name": "stdout",
     "output_type": "stream",
     "text": [
      "0.7681539807524059\n"
     ]
    }
   ],
   "source": [
    "model_logreg = LogisticRegression()\n",
    "model_logreg.fit(matr, df_lem_train['label'])\n",
    "y_logreg = model_logreg.predict(matr_test)\n",
    "\n",
    "accuracy = accuracy_score(df_lem_test['label'], y_logreg)\n",
    "print(accuracy)"
   ]
  },
  {
   "cell_type": "code",
   "execution_count": 20,
   "id": "5cb34a37",
   "metadata": {},
   "outputs": [
    {
     "name": "stdout",
     "output_type": "stream",
     "text": [
      "[ 530 3081 7251 ... 2013  987 2105]\n"
     ]
    },
    {
     "data": {
      "text/plain": [
       "array(['блять', 'любить', 'хороший', 'красивый', 'вау', 'пиздец', 'милый',\n",
       "       'сука', 'нахуй', 'классный', 'прекрасный', 'умирать', 'нравиться',\n",
       "       'любовь', 'красиво', 'крутой', 'рад', 'обожать', 'круто', 'вобще'],\n",
       "      dtype=object)"
      ]
     },
     "execution_count": 20,
     "metadata": {},
     "output_type": "execute_result"
    }
   ],
   "source": [
    "importance = model_logreg.coef_\n",
    "abs_importance = abs(importance)\n",
    "sorted_index = abs_importance.argsort()\n",
    "sorted_index = sorted_index[0][::-1]\n",
    "print(sorted_index)\n",
    "# топ-20 значимых слов\n",
    "np.array(vec.get_feature_names_out())[sorted_index[0:20]]"
   ]
  },
  {
   "cell_type": "code",
   "execution_count": 24,
   "id": "f8703977",
   "metadata": {},
   "outputs": [
    {
     "name": "stdout",
     "output_type": "stream",
     "text": [
      "0.5774278215223098\n"
     ]
    }
   ],
   "source": [
    "model_random_forest = RandomForestClassifier(max_depth=1)\n",
    "model_random_forest.fit(matr, df_lem_train['label'])\n",
    "y_forest = model_random_forest.predict(matr_test)\n",
    "\n",
    "accuracy = accuracy_score(df_lem_test['label'], y_forest)\n",
    "print(accuracy)"
   ]
  },
  {
   "cell_type": "code",
   "execution_count": 22,
   "id": "84a7a3af",
   "metadata": {},
   "outputs": [
    {
     "name": "stdout",
     "output_type": "stream",
     "text": [
      "[1297 5803  804 ... 5136 5137    0]\n"
     ]
    },
    {
     "data": {
      "text/plain": [
       "array(['гордиться', 'самый', 'взять', 'посмотреть', 'ждать', 'тупой',\n",
       "       'вау', 'мать', 'помнить', 'наконецто', 'хуйня', 'обожать', 'плохо',\n",
       "       'вкусно', 'первый', 'краш', 'надеяться', 'заебывать', 'жаль',\n",
       "       'становиться'], dtype=object)"
      ]
     },
     "execution_count": 22,
     "metadata": {},
     "output_type": "execute_result"
    }
   ],
   "source": [
    "importance = model_random_forest.feature_importances_\n",
    "abs_importance = abs(importance)\n",
    "sorted_index = abs_importance.argsort()[::-1]\n",
    "print(sorted_index)\n",
    "# топ-20 значимых слов\n",
    "np.array(vec.get_feature_names_out())[sorted_index[0:20]]"
   ]
  },
  {
   "cell_type": "code",
   "execution_count": null,
   "id": "002a693d",
   "metadata": {},
   "outputs": [],
   "source": []
  }
 ],
 "metadata": {
  "kernelspec": {
   "display_name": "Python 3 (ipykernel)",
   "language": "python",
   "name": "python3"
  },
  "language_info": {
   "codemirror_mode": {
    "name": "ipython",
    "version": 3
   },
   "file_extension": ".py",
   "mimetype": "text/x-python",
   "name": "python",
   "nbconvert_exporter": "python",
   "pygments_lexer": "ipython3",
   "version": "3.11.3"
  }
 },
 "nbformat": 4,
 "nbformat_minor": 5
}
